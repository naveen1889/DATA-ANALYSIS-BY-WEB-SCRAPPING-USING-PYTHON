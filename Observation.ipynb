{
 "cells": [
  {
   "cell_type": "code",
   "execution_count": 1,
   "id": "7f662dd2",
   "metadata": {},
   "outputs": [],
   "source": [
    "import pandas as pd\n",
    "df = pd.read_json (r'C:\\Users\\shing\\DataAnalysisUsingWebScraping\\Makaan_scrape\\Makaan_scrape\\spiders\\\n",
    ".json')\n",
    "df.to_csv (r'C:\\Users\\shing\\DataAnalysisUsingWebScraping\\Makaan_scrape\\Makaan_scrape\\spiders\\output.csv', index = None)"
   ]
  },
  {
   "cell_type": "code",
   "execution_count": 2,
   "id": "2be11ff5",
   "metadata": {},
   "outputs": [],
   "source": [
    "d1=pd.read_csv(\"C:\\\\Users\\\\shing\\\\DataAnalysisUsingWebScraping\\\\Makaan_scrape\\\\Makaan_scrape\\\\spiders\\\\output.csv\")"
   ]
  },
  {
   "cell_type": "code",
   "execution_count": 3,
   "id": "20677ba8",
   "metadata": {},
   "outputs": [
    {
     "data": {
      "text/plain": [
       "(35556, 8)"
      ]
     },
     "execution_count": 3,
     "metadata": {},
     "output_type": "execute_result"
    }
   ],
   "source": [
    "d1.shape"
   ]
  },
  {
   "cell_type": "code",
   "execution_count": 4,
   "id": "9b6652d3",
   "metadata": {},
   "outputs": [
    {
     "data": {
      "text/html": [
       "<div>\n",
       "<style scoped>\n",
       "    .dataframe tbody tr th:only-of-type {\n",
       "        vertical-align: middle;\n",
       "    }\n",
       "\n",
       "    .dataframe tbody tr th {\n",
       "        vertical-align: top;\n",
       "    }\n",
       "\n",
       "    .dataframe thead th {\n",
       "        text-align: right;\n",
       "    }\n",
       "</style>\n",
       "<table border=\"1\" class=\"dataframe\">\n",
       "  <thead>\n",
       "    <tr style=\"text-align: right;\">\n",
       "      <th></th>\n",
       "      <th>title</th>\n",
       "      <th>projectname</th>\n",
       "      <th>builder</th>\n",
       "      <th>price</th>\n",
       "      <th>per_sqft</th>\n",
       "      <th>area</th>\n",
       "      <th>status</th>\n",
       "      <th>place</th>\n",
       "    </tr>\n",
       "  </thead>\n",
       "  <tbody>\n",
       "    <tr>\n",
       "      <th>0</th>\n",
       "      <td>4  BHK  Villa</td>\n",
       "      <td>NR Infra Ultimus</td>\n",
       "      <td>NR Infra Projects</td>\n",
       "      <td>12900000</td>\n",
       "      <td>4,999 / sq ft</td>\n",
       "      <td>2594</td>\n",
       "      <td>Ready to move</td>\n",
       "      <td>Rameswaram Banda</td>\n",
       "    </tr>\n",
       "    <tr>\n",
       "      <th>1</th>\n",
       "      <td>2  BHK  Apartment</td>\n",
       "      <td>Vasavi Metropolis</td>\n",
       "      <td>Vasavi Group</td>\n",
       "      <td>6070000</td>\n",
       "      <td>5,705 / sq ft</td>\n",
       "      <td>1065</td>\n",
       "      <td>Under Construction</td>\n",
       "      <td>Uppal Kalan</td>\n",
       "    </tr>\n",
       "    <tr>\n",
       "      <th>2</th>\n",
       "      <td>2  BHK  Apartment</td>\n",
       "      <td>Aavasa Constructions Emerald</td>\n",
       "      <td>Aavasa Constructions</td>\n",
       "      <td>8515000</td>\n",
       "      <td>6,500 / sq ft</td>\n",
       "      <td>1310</td>\n",
       "      <td>Under Construction</td>\n",
       "      <td>Saroor Nagar</td>\n",
       "    </tr>\n",
       "    <tr>\n",
       "      <th>3</th>\n",
       "      <td>3  BHK  Apartment</td>\n",
       "      <td>Primark De Stature</td>\n",
       "      <td>Primark Developers</td>\n",
       "      <td>9797000</td>\n",
       "      <td>4,699 / sq ft</td>\n",
       "      <td>2085</td>\n",
       "      <td>Under Construction</td>\n",
       "      <td>Kompally</td>\n",
       "    </tr>\n",
       "    <tr>\n",
       "      <th>4</th>\n",
       "      <td>2  BHK  Apartment</td>\n",
       "      <td>Srija Twin Towers</td>\n",
       "      <td>Srija Infra Developers Hyderabad</td>\n",
       "      <td>5001000</td>\n",
       "      <td>4,800 / sq ft</td>\n",
       "      <td>1042</td>\n",
       "      <td>Under Construction</td>\n",
       "      <td>Dammaiguda</td>\n",
       "    </tr>\n",
       "  </tbody>\n",
       "</table>\n",
       "</div>"
      ],
      "text/plain": [
       "               title                   projectname  \\\n",
       "0      4  BHK  Villa              NR Infra Ultimus   \n",
       "1  2  BHK  Apartment             Vasavi Metropolis   \n",
       "2  2  BHK  Apartment  Aavasa Constructions Emerald   \n",
       "3  3  BHK  Apartment            Primark De Stature   \n",
       "4  2  BHK  Apartment             Srija Twin Towers   \n",
       "\n",
       "                            builder     price       per_sqft  area  \\\n",
       "0                 NR Infra Projects  12900000  4,999 / sq ft  2594   \n",
       "1                      Vasavi Group   6070000  5,705 / sq ft  1065   \n",
       "2              Aavasa Constructions   8515000  6,500 / sq ft  1310   \n",
       "3                Primark Developers   9797000  4,699 / sq ft  2085   \n",
       "4  Srija Infra Developers Hyderabad   5001000  4,800 / sq ft  1042   \n",
       "\n",
       "               status             place  \n",
       "0       Ready to move  Rameswaram Banda  \n",
       "1  Under Construction       Uppal Kalan  \n",
       "2  Under Construction      Saroor Nagar  \n",
       "3  Under Construction          Kompally  \n",
       "4  Under Construction        Dammaiguda  "
      ]
     },
     "execution_count": 4,
     "metadata": {},
     "output_type": "execute_result"
    }
   ],
   "source": [
    "d1.head()"
   ]
  },
  {
   "cell_type": "code",
   "execution_count": 5,
   "id": "16964612",
   "metadata": {},
   "outputs": [
    {
     "data": {
      "text/html": [
       "<div>\n",
       "<style scoped>\n",
       "    .dataframe tbody tr th:only-of-type {\n",
       "        vertical-align: middle;\n",
       "    }\n",
       "\n",
       "    .dataframe tbody tr th {\n",
       "        vertical-align: top;\n",
       "    }\n",
       "\n",
       "    .dataframe thead th {\n",
       "        text-align: right;\n",
       "    }\n",
       "</style>\n",
       "<table border=\"1\" class=\"dataframe\">\n",
       "  <thead>\n",
       "    <tr style=\"text-align: right;\">\n",
       "      <th></th>\n",
       "      <th>title</th>\n",
       "      <th>projectname</th>\n",
       "      <th>builder</th>\n",
       "      <th>price</th>\n",
       "      <th>per_sqft</th>\n",
       "      <th>area</th>\n",
       "      <th>status</th>\n",
       "      <th>place</th>\n",
       "    </tr>\n",
       "  </thead>\n",
       "  <tbody>\n",
       "    <tr>\n",
       "      <th>35551</th>\n",
       "      <td>Residential Plot</td>\n",
       "      <td>Mahira Kohinoor Phase II</td>\n",
       "      <td>Jyoti Estate</td>\n",
       "      <td>1256000</td>\n",
       "      <td>756 / sq ft</td>\n",
       "      <td>1660</td>\n",
       "      <td>New</td>\n",
       "      <td>Izzathnagar</td>\n",
       "    </tr>\n",
       "    <tr>\n",
       "      <th>35552</th>\n",
       "      <td>Residential Plot</td>\n",
       "      <td>Ikon Touch</td>\n",
       "      <td>Jyoti Estate</td>\n",
       "      <td>1256000</td>\n",
       "      <td>761 / sq ft</td>\n",
       "      <td>1650</td>\n",
       "      <td>Resale</td>\n",
       "      <td>6th Phase KPHB</td>\n",
       "    </tr>\n",
       "    <tr>\n",
       "      <th>35553</th>\n",
       "      <td>Residential Plot</td>\n",
       "      <td>Ik n Eh ht</td>\n",
       "      <td>Jyoti Estate</td>\n",
       "      <td>1346000</td>\n",
       "      <td>626 / sq ft</td>\n",
       "      <td>2150</td>\n",
       "      <td>Resale</td>\n",
       "      <td>Kukatpally</td>\n",
       "    </tr>\n",
       "    <tr>\n",
       "      <th>35554</th>\n",
       "      <td>Residential Plot</td>\n",
       "      <td>Mohammed Abdual Razzak Khan IK Towers</td>\n",
       "      <td>Jyoti Estate</td>\n",
       "      <td>1346000</td>\n",
       "      <td>731 / sq ft</td>\n",
       "      <td>1840</td>\n",
       "      <td>Resale</td>\n",
       "      <td>Attapur</td>\n",
       "    </tr>\n",
       "    <tr>\n",
       "      <th>35555</th>\n",
       "      <td>Residential Plot</td>\n",
       "      <td>Ikya Breezeway</td>\n",
       "      <td>Jyoti Estate</td>\n",
       "      <td>1253000</td>\n",
       "      <td>754 / sq ft</td>\n",
       "      <td>1660</td>\n",
       "      <td>New</td>\n",
       "      <td>Gajulramaram Kukatpally</td>\n",
       "    </tr>\n",
       "  </tbody>\n",
       "</table>\n",
       "</div>"
      ],
      "text/plain": [
       "                  title                            projectname       builder  \\\n",
       "35551  Residential Plot               Mahira Kohinoor Phase II  Jyoti Estate   \n",
       "35552  Residential Plot                             Ikon Touch  Jyoti Estate   \n",
       "35553  Residential Plot                             Ik n Eh ht  Jyoti Estate   \n",
       "35554  Residential Plot  Mohammed Abdual Razzak Khan IK Towers  Jyoti Estate   \n",
       "35555  Residential Plot                         Ikya Breezeway  Jyoti Estate   \n",
       "\n",
       "         price     per_sqft  area  status                    place  \n",
       "35551  1256000  756 / sq ft  1660     New              Izzathnagar  \n",
       "35552  1256000  761 / sq ft  1650  Resale           6th Phase KPHB  \n",
       "35553  1346000  626 / sq ft  2150  Resale               Kukatpally  \n",
       "35554  1346000  731 / sq ft  1840  Resale                  Attapur  \n",
       "35555  1253000  754 / sq ft  1660     New  Gajulramaram Kukatpally  "
      ]
     },
     "execution_count": 5,
     "metadata": {},
     "output_type": "execute_result"
    }
   ],
   "source": [
    "d1.tail()"
   ]
  },
  {
   "cell_type": "code",
   "execution_count": 6,
   "id": "8065f70e",
   "metadata": {},
   "outputs": [],
   "source": [
    "d1['per_sqft'] = df['per_sqft'].str.replace(',','').str.replace('/ sq ft','')"
   ]
  },
  {
   "cell_type": "code",
   "execution_count": 7,
   "id": "3f84b3f0",
   "metadata": {},
   "outputs": [
    {
     "data": {
      "text/html": [
       "<div>\n",
       "<style scoped>\n",
       "    .dataframe tbody tr th:only-of-type {\n",
       "        vertical-align: middle;\n",
       "    }\n",
       "\n",
       "    .dataframe tbody tr th {\n",
       "        vertical-align: top;\n",
       "    }\n",
       "\n",
       "    .dataframe thead th {\n",
       "        text-align: right;\n",
       "    }\n",
       "</style>\n",
       "<table border=\"1\" class=\"dataframe\">\n",
       "  <thead>\n",
       "    <tr style=\"text-align: right;\">\n",
       "      <th></th>\n",
       "      <th>title</th>\n",
       "      <th>projectname</th>\n",
       "      <th>builder</th>\n",
       "      <th>price</th>\n",
       "      <th>per_sqft</th>\n",
       "      <th>area</th>\n",
       "      <th>status</th>\n",
       "      <th>place</th>\n",
       "    </tr>\n",
       "  </thead>\n",
       "  <tbody>\n",
       "    <tr>\n",
       "      <th>0</th>\n",
       "      <td>4  BHK  Villa</td>\n",
       "      <td>NR Infra Ultimus</td>\n",
       "      <td>NR Infra Projects</td>\n",
       "      <td>12900000</td>\n",
       "      <td>4999</td>\n",
       "      <td>2594</td>\n",
       "      <td>Ready to move</td>\n",
       "      <td>Rameswaram Banda</td>\n",
       "    </tr>\n",
       "    <tr>\n",
       "      <th>1</th>\n",
       "      <td>2  BHK  Apartment</td>\n",
       "      <td>Vasavi Metropolis</td>\n",
       "      <td>Vasavi Group</td>\n",
       "      <td>6070000</td>\n",
       "      <td>5705</td>\n",
       "      <td>1065</td>\n",
       "      <td>Under Construction</td>\n",
       "      <td>Uppal Kalan</td>\n",
       "    </tr>\n",
       "    <tr>\n",
       "      <th>2</th>\n",
       "      <td>2  BHK  Apartment</td>\n",
       "      <td>Aavasa Constructions Emerald</td>\n",
       "      <td>Aavasa Constructions</td>\n",
       "      <td>8515000</td>\n",
       "      <td>6500</td>\n",
       "      <td>1310</td>\n",
       "      <td>Under Construction</td>\n",
       "      <td>Saroor Nagar</td>\n",
       "    </tr>\n",
       "    <tr>\n",
       "      <th>3</th>\n",
       "      <td>3  BHK  Apartment</td>\n",
       "      <td>Primark De Stature</td>\n",
       "      <td>Primark Developers</td>\n",
       "      <td>9797000</td>\n",
       "      <td>4699</td>\n",
       "      <td>2085</td>\n",
       "      <td>Under Construction</td>\n",
       "      <td>Kompally</td>\n",
       "    </tr>\n",
       "    <tr>\n",
       "      <th>4</th>\n",
       "      <td>2  BHK  Apartment</td>\n",
       "      <td>Srija Twin Towers</td>\n",
       "      <td>Srija Infra Developers Hyderabad</td>\n",
       "      <td>5001000</td>\n",
       "      <td>4800</td>\n",
       "      <td>1042</td>\n",
       "      <td>Under Construction</td>\n",
       "      <td>Dammaiguda</td>\n",
       "    </tr>\n",
       "  </tbody>\n",
       "</table>\n",
       "</div>"
      ],
      "text/plain": [
       "               title                   projectname  \\\n",
       "0      4  BHK  Villa              NR Infra Ultimus   \n",
       "1  2  BHK  Apartment             Vasavi Metropolis   \n",
       "2  2  BHK  Apartment  Aavasa Constructions Emerald   \n",
       "3  3  BHK  Apartment            Primark De Stature   \n",
       "4  2  BHK  Apartment             Srija Twin Towers   \n",
       "\n",
       "                            builder     price per_sqft  area  \\\n",
       "0                 NR Infra Projects  12900000    4999   2594   \n",
       "1                      Vasavi Group   6070000    5705   1065   \n",
       "2              Aavasa Constructions   8515000    6500   1310   \n",
       "3                Primark Developers   9797000    4699   2085   \n",
       "4  Srija Infra Developers Hyderabad   5001000    4800   1042   \n",
       "\n",
       "               status             place  \n",
       "0       Ready to move  Rameswaram Banda  \n",
       "1  Under Construction       Uppal Kalan  \n",
       "2  Under Construction      Saroor Nagar  \n",
       "3  Under Construction          Kompally  \n",
       "4  Under Construction        Dammaiguda  "
      ]
     },
     "execution_count": 7,
     "metadata": {},
     "output_type": "execute_result"
    }
   ],
   "source": [
    "d1.head()"
   ]
  },
  {
   "cell_type": "code",
   "execution_count": 8,
   "id": "7e1f382d",
   "metadata": {},
   "outputs": [
    {
     "data": {
      "text/html": [
       "<div>\n",
       "<style scoped>\n",
       "    .dataframe tbody tr th:only-of-type {\n",
       "        vertical-align: middle;\n",
       "    }\n",
       "\n",
       "    .dataframe tbody tr th {\n",
       "        vertical-align: top;\n",
       "    }\n",
       "\n",
       "    .dataframe thead th {\n",
       "        text-align: right;\n",
       "    }\n",
       "</style>\n",
       "<table border=\"1\" class=\"dataframe\">\n",
       "  <thead>\n",
       "    <tr style=\"text-align: right;\">\n",
       "      <th></th>\n",
       "      <th>title</th>\n",
       "      <th>projectname</th>\n",
       "      <th>builder</th>\n",
       "      <th>price</th>\n",
       "      <th>per_sqft</th>\n",
       "      <th>area</th>\n",
       "      <th>status</th>\n",
       "      <th>place</th>\n",
       "    </tr>\n",
       "  </thead>\n",
       "  <tbody>\n",
       "    <tr>\n",
       "      <th>35551</th>\n",
       "      <td>Residential Plot</td>\n",
       "      <td>Mahira Kohinoor Phase II</td>\n",
       "      <td>Jyoti Estate</td>\n",
       "      <td>1256000</td>\n",
       "      <td>756</td>\n",
       "      <td>1660</td>\n",
       "      <td>New</td>\n",
       "      <td>Izzathnagar</td>\n",
       "    </tr>\n",
       "    <tr>\n",
       "      <th>35552</th>\n",
       "      <td>Residential Plot</td>\n",
       "      <td>Ikon Touch</td>\n",
       "      <td>Jyoti Estate</td>\n",
       "      <td>1256000</td>\n",
       "      <td>761</td>\n",
       "      <td>1650</td>\n",
       "      <td>Resale</td>\n",
       "      <td>6th Phase KPHB</td>\n",
       "    </tr>\n",
       "    <tr>\n",
       "      <th>35553</th>\n",
       "      <td>Residential Plot</td>\n",
       "      <td>Ik n Eh ht</td>\n",
       "      <td>Jyoti Estate</td>\n",
       "      <td>1346000</td>\n",
       "      <td>626</td>\n",
       "      <td>2150</td>\n",
       "      <td>Resale</td>\n",
       "      <td>Kukatpally</td>\n",
       "    </tr>\n",
       "    <tr>\n",
       "      <th>35554</th>\n",
       "      <td>Residential Plot</td>\n",
       "      <td>Mohammed Abdual Razzak Khan IK Towers</td>\n",
       "      <td>Jyoti Estate</td>\n",
       "      <td>1346000</td>\n",
       "      <td>731</td>\n",
       "      <td>1840</td>\n",
       "      <td>Resale</td>\n",
       "      <td>Attapur</td>\n",
       "    </tr>\n",
       "    <tr>\n",
       "      <th>35555</th>\n",
       "      <td>Residential Plot</td>\n",
       "      <td>Ikya Breezeway</td>\n",
       "      <td>Jyoti Estate</td>\n",
       "      <td>1253000</td>\n",
       "      <td>754</td>\n",
       "      <td>1660</td>\n",
       "      <td>New</td>\n",
       "      <td>Gajulramaram Kukatpally</td>\n",
       "    </tr>\n",
       "  </tbody>\n",
       "</table>\n",
       "</div>"
      ],
      "text/plain": [
       "                  title                            projectname       builder  \\\n",
       "35551  Residential Plot               Mahira Kohinoor Phase II  Jyoti Estate   \n",
       "35552  Residential Plot                             Ikon Touch  Jyoti Estate   \n",
       "35553  Residential Plot                             Ik n Eh ht  Jyoti Estate   \n",
       "35554  Residential Plot  Mohammed Abdual Razzak Khan IK Towers  Jyoti Estate   \n",
       "35555  Residential Plot                         Ikya Breezeway  Jyoti Estate   \n",
       "\n",
       "         price per_sqft  area  status                    place  \n",
       "35551  1256000     756   1660     New              Izzathnagar  \n",
       "35552  1256000     761   1650  Resale           6th Phase KPHB  \n",
       "35553  1346000     626   2150  Resale               Kukatpally  \n",
       "35554  1346000     731   1840  Resale                  Attapur  \n",
       "35555  1253000     754   1660     New  Gajulramaram Kukatpally  "
      ]
     },
     "execution_count": 8,
     "metadata": {},
     "output_type": "execute_result"
    }
   ],
   "source": [
    "d1.tail()"
   ]
  },
  {
   "cell_type": "code",
   "execution_count": 9,
   "id": "0ff8c81e",
   "metadata": {},
   "outputs": [],
   "source": [
    "d1['per_sqft']=d1['per_sqft'].astype(int)"
   ]
  },
  {
   "cell_type": "code",
   "execution_count": 10,
   "id": "41e558a6",
   "metadata": {},
   "outputs": [
    {
     "data": {
      "text/plain": [
       "title          object\n",
       "projectname    object\n",
       "builder        object\n",
       "price           int64\n",
       "per_sqft        int32\n",
       "area            int64\n",
       "status         object\n",
       "place          object\n",
       "dtype: object"
      ]
     },
     "execution_count": 10,
     "metadata": {},
     "output_type": "execute_result"
    }
   ],
   "source": [
    "d1.dtypes"
   ]
  },
  {
   "cell_type": "code",
   "execution_count": 11,
   "id": "4d13ead3",
   "metadata": {},
   "outputs": [
    {
     "data": {
      "text/html": [
       "<div>\n",
       "<style scoped>\n",
       "    .dataframe tbody tr th:only-of-type {\n",
       "        vertical-align: middle;\n",
       "    }\n",
       "\n",
       "    .dataframe tbody tr th {\n",
       "        vertical-align: top;\n",
       "    }\n",
       "\n",
       "    .dataframe thead th {\n",
       "        text-align: right;\n",
       "    }\n",
       "</style>\n",
       "<table border=\"1\" class=\"dataframe\">\n",
       "  <thead>\n",
       "    <tr style=\"text-align: right;\">\n",
       "      <th></th>\n",
       "      <th>price</th>\n",
       "      <th>per_sqft</th>\n",
       "      <th>area</th>\n",
       "    </tr>\n",
       "  </thead>\n",
       "  <tbody>\n",
       "    <tr>\n",
       "      <th>count</th>\n",
       "      <td>3.555600e+04</td>\n",
       "      <td>35556.000000</td>\n",
       "      <td>3.555600e+04</td>\n",
       "    </tr>\n",
       "    <tr>\n",
       "      <th>mean</th>\n",
       "      <td>8.664345e+06</td>\n",
       "      <td>4240.885758</td>\n",
       "      <td>2.068417e+03</td>\n",
       "    </tr>\n",
       "    <tr>\n",
       "      <th>std</th>\n",
       "      <td>1.549350e+07</td>\n",
       "      <td>3889.546511</td>\n",
       "      <td>1.594917e+04</td>\n",
       "    </tr>\n",
       "    <tr>\n",
       "      <th>min</th>\n",
       "      <td>1.000000e+05</td>\n",
       "      <td>101.000000</td>\n",
       "      <td>8.000000e+01</td>\n",
       "    </tr>\n",
       "    <tr>\n",
       "      <th>25%</th>\n",
       "      <td>2.384000e+06</td>\n",
       "      <td>1388.000000</td>\n",
       "      <td>1.275000e+03</td>\n",
       "    </tr>\n",
       "    <tr>\n",
       "      <th>50%</th>\n",
       "      <td>5.441000e+06</td>\n",
       "      <td>4037.500000</td>\n",
       "      <td>1.620000e+03</td>\n",
       "    </tr>\n",
       "    <tr>\n",
       "      <th>75%</th>\n",
       "      <td>9.044000e+06</td>\n",
       "      <td>5703.000000</td>\n",
       "      <td>2.000000e+03</td>\n",
       "    </tr>\n",
       "    <tr>\n",
       "      <th>max</th>\n",
       "      <td>6.100000e+08</td>\n",
       "      <td>128000.000000</td>\n",
       "      <td>2.352240e+06</td>\n",
       "    </tr>\n",
       "  </tbody>\n",
       "</table>\n",
       "</div>"
      ],
      "text/plain": [
       "              price       per_sqft          area\n",
       "count  3.555600e+04   35556.000000  3.555600e+04\n",
       "mean   8.664345e+06    4240.885758  2.068417e+03\n",
       "std    1.549350e+07    3889.546511  1.594917e+04\n",
       "min    1.000000e+05     101.000000  8.000000e+01\n",
       "25%    2.384000e+06    1388.000000  1.275000e+03\n",
       "50%    5.441000e+06    4037.500000  1.620000e+03\n",
       "75%    9.044000e+06    5703.000000  2.000000e+03\n",
       "max    6.100000e+08  128000.000000  2.352240e+06"
      ]
     },
     "execution_count": 11,
     "metadata": {},
     "output_type": "execute_result"
    }
   ],
   "source": [
    "d1.describe()"
   ]
  },
  {
   "cell_type": "code",
   "execution_count": 12,
   "id": "daf40055",
   "metadata": {},
   "outputs": [],
   "source": [
    "d1=d1.drop_duplicates()"
   ]
  },
  {
   "cell_type": "code",
   "execution_count": 13,
   "id": "f6096e87",
   "metadata": {},
   "outputs": [],
   "source": [
    "d1=d1.reset_index()"
   ]
  },
  {
   "cell_type": "code",
   "execution_count": 14,
   "id": "00696f55",
   "metadata": {},
   "outputs": [
    {
     "data": {
      "text/html": [
       "<div>\n",
       "<style scoped>\n",
       "    .dataframe tbody tr th:only-of-type {\n",
       "        vertical-align: middle;\n",
       "    }\n",
       "\n",
       "    .dataframe tbody tr th {\n",
       "        vertical-align: top;\n",
       "    }\n",
       "\n",
       "    .dataframe thead th {\n",
       "        text-align: right;\n",
       "    }\n",
       "</style>\n",
       "<table border=\"1\" class=\"dataframe\">\n",
       "  <thead>\n",
       "    <tr style=\"text-align: right;\">\n",
       "      <th></th>\n",
       "      <th>index</th>\n",
       "      <th>title</th>\n",
       "      <th>projectname</th>\n",
       "      <th>builder</th>\n",
       "      <th>price</th>\n",
       "      <th>per_sqft</th>\n",
       "      <th>area</th>\n",
       "      <th>status</th>\n",
       "      <th>place</th>\n",
       "    </tr>\n",
       "  </thead>\n",
       "  <tbody>\n",
       "    <tr>\n",
       "      <th>0</th>\n",
       "      <td>0</td>\n",
       "      <td>4  BHK  Villa</td>\n",
       "      <td>NR Infra Ultimus</td>\n",
       "      <td>NR Infra Projects</td>\n",
       "      <td>12900000</td>\n",
       "      <td>4999</td>\n",
       "      <td>2594</td>\n",
       "      <td>Ready to move</td>\n",
       "      <td>Rameswaram Banda</td>\n",
       "    </tr>\n",
       "    <tr>\n",
       "      <th>1</th>\n",
       "      <td>1</td>\n",
       "      <td>2  BHK  Apartment</td>\n",
       "      <td>Vasavi Metropolis</td>\n",
       "      <td>Vasavi Group</td>\n",
       "      <td>6070000</td>\n",
       "      <td>5705</td>\n",
       "      <td>1065</td>\n",
       "      <td>Under Construction</td>\n",
       "      <td>Uppal Kalan</td>\n",
       "    </tr>\n",
       "    <tr>\n",
       "      <th>2</th>\n",
       "      <td>2</td>\n",
       "      <td>2  BHK  Apartment</td>\n",
       "      <td>Aavasa Constructions Emerald</td>\n",
       "      <td>Aavasa Constructions</td>\n",
       "      <td>8515000</td>\n",
       "      <td>6500</td>\n",
       "      <td>1310</td>\n",
       "      <td>Under Construction</td>\n",
       "      <td>Saroor Nagar</td>\n",
       "    </tr>\n",
       "    <tr>\n",
       "      <th>3</th>\n",
       "      <td>3</td>\n",
       "      <td>3  BHK  Apartment</td>\n",
       "      <td>Primark De Stature</td>\n",
       "      <td>Primark Developers</td>\n",
       "      <td>9797000</td>\n",
       "      <td>4699</td>\n",
       "      <td>2085</td>\n",
       "      <td>Under Construction</td>\n",
       "      <td>Kompally</td>\n",
       "    </tr>\n",
       "    <tr>\n",
       "      <th>4</th>\n",
       "      <td>4</td>\n",
       "      <td>2  BHK  Apartment</td>\n",
       "      <td>Srija Twin Towers</td>\n",
       "      <td>Srija Infra Developers Hyderabad</td>\n",
       "      <td>5001000</td>\n",
       "      <td>4800</td>\n",
       "      <td>1042</td>\n",
       "      <td>Under Construction</td>\n",
       "      <td>Dammaiguda</td>\n",
       "    </tr>\n",
       "  </tbody>\n",
       "</table>\n",
       "</div>"
      ],
      "text/plain": [
       "   index              title                   projectname  \\\n",
       "0      0      4  BHK  Villa              NR Infra Ultimus   \n",
       "1      1  2  BHK  Apartment             Vasavi Metropolis   \n",
       "2      2  2  BHK  Apartment  Aavasa Constructions Emerald   \n",
       "3      3  3  BHK  Apartment            Primark De Stature   \n",
       "4      4  2  BHK  Apartment             Srija Twin Towers   \n",
       "\n",
       "                            builder     price  per_sqft  area  \\\n",
       "0                 NR Infra Projects  12900000      4999  2594   \n",
       "1                      Vasavi Group   6070000      5705  1065   \n",
       "2              Aavasa Constructions   8515000      6500  1310   \n",
       "3                Primark Developers   9797000      4699  2085   \n",
       "4  Srija Infra Developers Hyderabad   5001000      4800  1042   \n",
       "\n",
       "               status             place  \n",
       "0       Ready to move  Rameswaram Banda  \n",
       "1  Under Construction       Uppal Kalan  \n",
       "2  Under Construction      Saroor Nagar  \n",
       "3  Under Construction          Kompally  \n",
       "4  Under Construction        Dammaiguda  "
      ]
     },
     "execution_count": 14,
     "metadata": {},
     "output_type": "execute_result"
    }
   ],
   "source": [
    "d1.head()"
   ]
  },
  {
   "cell_type": "code",
   "execution_count": 15,
   "id": "9cf997c5",
   "metadata": {},
   "outputs": [],
   "source": [
    "d1=d1.drop(labels='index',axis=1)"
   ]
  },
  {
   "cell_type": "code",
   "execution_count": 16,
   "id": "d0fed003",
   "metadata": {},
   "outputs": [
    {
     "data": {
      "text/plain": [
       "(24922, 8)"
      ]
     },
     "execution_count": 16,
     "metadata": {},
     "output_type": "execute_result"
    }
   ],
   "source": [
    "d1.shape"
   ]
  },
  {
   "cell_type": "code",
   "execution_count": 17,
   "id": "582e707e",
   "metadata": {},
   "outputs": [
    {
     "data": {
      "text/html": [
       "<div>\n",
       "<style scoped>\n",
       "    .dataframe tbody tr th:only-of-type {\n",
       "        vertical-align: middle;\n",
       "    }\n",
       "\n",
       "    .dataframe tbody tr th {\n",
       "        vertical-align: top;\n",
       "    }\n",
       "\n",
       "    .dataframe thead th {\n",
       "        text-align: right;\n",
       "    }\n",
       "</style>\n",
       "<table border=\"1\" class=\"dataframe\">\n",
       "  <thead>\n",
       "    <tr style=\"text-align: right;\">\n",
       "      <th></th>\n",
       "      <th>title</th>\n",
       "      <th>projectname</th>\n",
       "      <th>builder</th>\n",
       "      <th>price</th>\n",
       "      <th>per_sqft</th>\n",
       "      <th>area</th>\n",
       "      <th>status</th>\n",
       "      <th>place</th>\n",
       "    </tr>\n",
       "  </thead>\n",
       "  <tbody>\n",
       "    <tr>\n",
       "      <th>0</th>\n",
       "      <td>4  BHK  Villa</td>\n",
       "      <td>NR Infra Ultimus</td>\n",
       "      <td>NR Infra Projects</td>\n",
       "      <td>12900000</td>\n",
       "      <td>4999</td>\n",
       "      <td>2594</td>\n",
       "      <td>Ready to move</td>\n",
       "      <td>Rameswaram Banda</td>\n",
       "    </tr>\n",
       "    <tr>\n",
       "      <th>1</th>\n",
       "      <td>2  BHK  Apartment</td>\n",
       "      <td>Vasavi Metropolis</td>\n",
       "      <td>Vasavi Group</td>\n",
       "      <td>6070000</td>\n",
       "      <td>5705</td>\n",
       "      <td>1065</td>\n",
       "      <td>Under Construction</td>\n",
       "      <td>Uppal Kalan</td>\n",
       "    </tr>\n",
       "    <tr>\n",
       "      <th>2</th>\n",
       "      <td>2  BHK  Apartment</td>\n",
       "      <td>Aavasa Constructions Emerald</td>\n",
       "      <td>Aavasa Constructions</td>\n",
       "      <td>8515000</td>\n",
       "      <td>6500</td>\n",
       "      <td>1310</td>\n",
       "      <td>Under Construction</td>\n",
       "      <td>Saroor Nagar</td>\n",
       "    </tr>\n",
       "    <tr>\n",
       "      <th>3</th>\n",
       "      <td>3  BHK  Apartment</td>\n",
       "      <td>Primark De Stature</td>\n",
       "      <td>Primark Developers</td>\n",
       "      <td>9797000</td>\n",
       "      <td>4699</td>\n",
       "      <td>2085</td>\n",
       "      <td>Under Construction</td>\n",
       "      <td>Kompally</td>\n",
       "    </tr>\n",
       "    <tr>\n",
       "      <th>4</th>\n",
       "      <td>2  BHK  Apartment</td>\n",
       "      <td>Srija Twin Towers</td>\n",
       "      <td>Srija Infra Developers Hyderabad</td>\n",
       "      <td>5001000</td>\n",
       "      <td>4800</td>\n",
       "      <td>1042</td>\n",
       "      <td>Under Construction</td>\n",
       "      <td>Dammaiguda</td>\n",
       "    </tr>\n",
       "  </tbody>\n",
       "</table>\n",
       "</div>"
      ],
      "text/plain": [
       "               title                   projectname  \\\n",
       "0      4  BHK  Villa              NR Infra Ultimus   \n",
       "1  2  BHK  Apartment             Vasavi Metropolis   \n",
       "2  2  BHK  Apartment  Aavasa Constructions Emerald   \n",
       "3  3  BHK  Apartment            Primark De Stature   \n",
       "4  2  BHK  Apartment             Srija Twin Towers   \n",
       "\n",
       "                            builder     price  per_sqft  area  \\\n",
       "0                 NR Infra Projects  12900000      4999  2594   \n",
       "1                      Vasavi Group   6070000      5705  1065   \n",
       "2              Aavasa Constructions   8515000      6500  1310   \n",
       "3                Primark Developers   9797000      4699  2085   \n",
       "4  Srija Infra Developers Hyderabad   5001000      4800  1042   \n",
       "\n",
       "               status             place  \n",
       "0       Ready to move  Rameswaram Banda  \n",
       "1  Under Construction       Uppal Kalan  \n",
       "2  Under Construction      Saroor Nagar  \n",
       "3  Under Construction          Kompally  \n",
       "4  Under Construction        Dammaiguda  "
      ]
     },
     "execution_count": 17,
     "metadata": {},
     "output_type": "execute_result"
    }
   ],
   "source": [
    "d1.head()"
   ]
  },
  {
   "cell_type": "code",
   "execution_count": 18,
   "id": "2839b956",
   "metadata": {},
   "outputs": [
    {
     "data": {
      "text/html": [
       "<div>\n",
       "<style scoped>\n",
       "    .dataframe tbody tr th:only-of-type {\n",
       "        vertical-align: middle;\n",
       "    }\n",
       "\n",
       "    .dataframe tbody tr th {\n",
       "        vertical-align: top;\n",
       "    }\n",
       "\n",
       "    .dataframe thead th {\n",
       "        text-align: right;\n",
       "    }\n",
       "</style>\n",
       "<table border=\"1\" class=\"dataframe\">\n",
       "  <thead>\n",
       "    <tr style=\"text-align: right;\">\n",
       "      <th></th>\n",
       "      <th>title</th>\n",
       "      <th>projectname</th>\n",
       "      <th>builder</th>\n",
       "      <th>price</th>\n",
       "      <th>per_sqft</th>\n",
       "      <th>area</th>\n",
       "      <th>status</th>\n",
       "      <th>place</th>\n",
       "    </tr>\n",
       "  </thead>\n",
       "  <tbody>\n",
       "    <tr>\n",
       "      <th>24917</th>\n",
       "      <td>Residential Plot</td>\n",
       "      <td>One And Cadol The Promenade</td>\n",
       "      <td>Swati realtor</td>\n",
       "      <td>1985000</td>\n",
       "      <td>691</td>\n",
       "      <td>2870</td>\n",
       "      <td>New</td>\n",
       "      <td>Tellapur</td>\n",
       "    </tr>\n",
       "    <tr>\n",
       "      <th>24918</th>\n",
       "      <td>Residential Plot</td>\n",
       "      <td>Namitha Isle</td>\n",
       "      <td>Jyoti Estate</td>\n",
       "      <td>1785000</td>\n",
       "      <td>759</td>\n",
       "      <td>2350</td>\n",
       "      <td>Resale</td>\n",
       "      <td>Banjara Hills</td>\n",
       "    </tr>\n",
       "    <tr>\n",
       "      <th>24919</th>\n",
       "      <td>Residential Plot</td>\n",
       "      <td>Sukhii 9</td>\n",
       "      <td>Jyoti Estate</td>\n",
       "      <td>1384000</td>\n",
       "      <td>748</td>\n",
       "      <td>1850</td>\n",
       "      <td>New</td>\n",
       "      <td>Bachupally</td>\n",
       "    </tr>\n",
       "    <tr>\n",
       "      <th>24920</th>\n",
       "      <td>Residential Plot</td>\n",
       "      <td>IRA Aspiration</td>\n",
       "      <td>Jyoti Estate</td>\n",
       "      <td>1086000</td>\n",
       "      <td>670</td>\n",
       "      <td>1620</td>\n",
       "      <td>New</td>\n",
       "      <td>Kollur</td>\n",
       "    </tr>\n",
       "    <tr>\n",
       "      <th>24921</th>\n",
       "      <td>Residential Plot</td>\n",
       "      <td>Mahira Kohinoor Phase II</td>\n",
       "      <td>Jyoti Estate</td>\n",
       "      <td>1256000</td>\n",
       "      <td>756</td>\n",
       "      <td>1660</td>\n",
       "      <td>New</td>\n",
       "      <td>Izzathnagar</td>\n",
       "    </tr>\n",
       "  </tbody>\n",
       "</table>\n",
       "</div>"
      ],
      "text/plain": [
       "                  title                  projectname        builder    price  \\\n",
       "24917  Residential Plot  One And Cadol The Promenade  Swati realtor  1985000   \n",
       "24918  Residential Plot                 Namitha Isle   Jyoti Estate  1785000   \n",
       "24919  Residential Plot                     Sukhii 9   Jyoti Estate  1384000   \n",
       "24920  Residential Plot               IRA Aspiration   Jyoti Estate  1086000   \n",
       "24921  Residential Plot     Mahira Kohinoor Phase II   Jyoti Estate  1256000   \n",
       "\n",
       "       per_sqft  area  status          place  \n",
       "24917       691  2870     New       Tellapur  \n",
       "24918       759  2350  Resale  Banjara Hills  \n",
       "24919       748  1850     New     Bachupally  \n",
       "24920       670  1620     New         Kollur  \n",
       "24921       756  1660     New    Izzathnagar  "
      ]
     },
     "execution_count": 18,
     "metadata": {},
     "output_type": "execute_result"
    }
   ],
   "source": [
    "d1.tail()"
   ]
  },
  {
   "cell_type": "code",
   "execution_count": 19,
   "id": "7899e50c",
   "metadata": {},
   "outputs": [
    {
     "name": "stdout",
     "output_type": "stream",
     "text": [
      "<class 'pandas.core.frame.DataFrame'>\n",
      "RangeIndex: 24922 entries, 0 to 24921\n",
      "Data columns (total 8 columns):\n",
      " #   Column       Non-Null Count  Dtype \n",
      "---  ------       --------------  ----- \n",
      " 0   title        24922 non-null  object\n",
      " 1   projectname  8813 non-null   object\n",
      " 2   builder      24922 non-null  object\n",
      " 3   price        24922 non-null  int64 \n",
      " 4   per_sqft     24922 non-null  int32 \n",
      " 5   area         24922 non-null  int64 \n",
      " 6   status       24905 non-null  object\n",
      " 7   place        24922 non-null  object\n",
      "dtypes: int32(1), int64(2), object(5)\n",
      "memory usage: 1.4+ MB\n"
     ]
    }
   ],
   "source": [
    "d1.info()"
   ]
  },
  {
   "cell_type": "code",
   "execution_count": 20,
   "id": "eacc5513",
   "metadata": {},
   "outputs": [],
   "source": [
    "def values(x):\n",
    "    max_=d1[x].idxmax()\n",
    "    max_details=pd.DataFrame(d1.loc[max_])\n",
    "    \n",
    "    min_=d1[x].idxmin()\n",
    "    min_details=pd.DataFrame(d1.loc[min_])\n",
    "    \n",
    "    both=pd.concat([max_details,min_details],axis=1)\n",
    "    \n",
    "    return both"
   ]
  },
  {
   "cell_type": "code",
   "execution_count": 21,
   "id": "793685d8",
   "metadata": {},
   "outputs": [
    {
     "data": {
      "text/html": [
       "<div>\n",
       "<style scoped>\n",
       "    .dataframe tbody tr th:only-of-type {\n",
       "        vertical-align: middle;\n",
       "    }\n",
       "\n",
       "    .dataframe tbody tr th {\n",
       "        vertical-align: top;\n",
       "    }\n",
       "\n",
       "    .dataframe thead th {\n",
       "        text-align: right;\n",
       "    }\n",
       "</style>\n",
       "<table border=\"1\" class=\"dataframe\">\n",
       "  <thead>\n",
       "    <tr style=\"text-align: right;\">\n",
       "      <th></th>\n",
       "      <th>21503</th>\n",
       "      <th>24377</th>\n",
       "    </tr>\n",
       "  </thead>\n",
       "  <tbody>\n",
       "    <tr>\n",
       "      <th>title</th>\n",
       "      <td>4  BHK  Villa</td>\n",
       "      <td>Residential Plot</td>\n",
       "    </tr>\n",
       "    <tr>\n",
       "      <th>projectname</th>\n",
       "      <td>EIPL River Edge Villas</td>\n",
       "      <td>Time City</td>\n",
       "    </tr>\n",
       "    <tr>\n",
       "      <th>builder</th>\n",
       "      <td>Square Properties</td>\n",
       "      <td>srikanth</td>\n",
       "    </tr>\n",
       "    <tr>\n",
       "      <th>price</th>\n",
       "      <td>610000000</td>\n",
       "      <td>100000</td>\n",
       "    </tr>\n",
       "    <tr>\n",
       "      <th>per_sqft</th>\n",
       "      <td>118492</td>\n",
       "      <td>1111</td>\n",
       "    </tr>\n",
       "    <tr>\n",
       "      <th>area</th>\n",
       "      <td>5148</td>\n",
       "      <td>90</td>\n",
       "    </tr>\n",
       "    <tr>\n",
       "      <th>status</th>\n",
       "      <td>Ready to move</td>\n",
       "      <td>New</td>\n",
       "    </tr>\n",
       "    <tr>\n",
       "      <th>place</th>\n",
       "      <td>Kokapet</td>\n",
       "      <td>Kadthal</td>\n",
       "    </tr>\n",
       "  </tbody>\n",
       "</table>\n",
       "</div>"
      ],
      "text/plain": [
       "                              21503             24377\n",
       "title                 4  BHK  Villa  Residential Plot\n",
       "projectname  EIPL River Edge Villas         Time City\n",
       "builder           Square Properties          srikanth\n",
       "price                     610000000            100000\n",
       "per_sqft                     118492              1111\n",
       "area                           5148                90\n",
       "status                Ready to move               New\n",
       "place                       Kokapet           Kadthal"
      ]
     },
     "execution_count": 21,
     "metadata": {},
     "output_type": "execute_result"
    }
   ],
   "source": [
    "values('price')"
   ]
  },
  {
   "cell_type": "code",
   "execution_count": 22,
   "id": "3599568f",
   "metadata": {},
   "outputs": [],
   "source": [
    "d3=d1[(d1['price']==0)]"
   ]
  },
  {
   "cell_type": "code",
   "execution_count": 23,
   "id": "246ea2f0",
   "metadata": {},
   "outputs": [
    {
     "data": {
      "text/html": [
       "<div>\n",
       "<style scoped>\n",
       "    .dataframe tbody tr th:only-of-type {\n",
       "        vertical-align: middle;\n",
       "    }\n",
       "\n",
       "    .dataframe tbody tr th {\n",
       "        vertical-align: top;\n",
       "    }\n",
       "\n",
       "    .dataframe thead th {\n",
       "        text-align: right;\n",
       "    }\n",
       "</style>\n",
       "<table border=\"1\" class=\"dataframe\">\n",
       "  <thead>\n",
       "    <tr style=\"text-align: right;\">\n",
       "      <th></th>\n",
       "      <th>title</th>\n",
       "      <th>projectname</th>\n",
       "      <th>builder</th>\n",
       "      <th>price</th>\n",
       "      <th>per_sqft</th>\n",
       "      <th>area</th>\n",
       "      <th>status</th>\n",
       "      <th>place</th>\n",
       "    </tr>\n",
       "  </thead>\n",
       "  <tbody>\n",
       "  </tbody>\n",
       "</table>\n",
       "</div>"
      ],
      "text/plain": [
       "Empty DataFrame\n",
       "Columns: [title, projectname, builder, price, per_sqft, area, status, place]\n",
       "Index: []"
      ]
     },
     "execution_count": 23,
     "metadata": {},
     "output_type": "execute_result"
    }
   ],
   "source": [
    "d3"
   ]
  },
  {
   "cell_type": "code",
   "execution_count": 24,
   "id": "16a15d5f",
   "metadata": {},
   "outputs": [
    {
     "data": {
      "text/html": [
       "<div>\n",
       "<style scoped>\n",
       "    .dataframe tbody tr th:only-of-type {\n",
       "        vertical-align: middle;\n",
       "    }\n",
       "\n",
       "    .dataframe tbody tr th {\n",
       "        vertical-align: top;\n",
       "    }\n",
       "\n",
       "    .dataframe thead th {\n",
       "        text-align: right;\n",
       "    }\n",
       "</style>\n",
       "<table border=\"1\" class=\"dataframe\">\n",
       "  <thead>\n",
       "    <tr style=\"text-align: right;\">\n",
       "      <th></th>\n",
       "      <th>price</th>\n",
       "      <th>per_sqft</th>\n",
       "      <th>area</th>\n",
       "    </tr>\n",
       "  </thead>\n",
       "  <tbody>\n",
       "    <tr>\n",
       "      <th>count</th>\n",
       "      <td>2.492200e+04</td>\n",
       "      <td>24922.000000</td>\n",
       "      <td>2.492200e+04</td>\n",
       "    </tr>\n",
       "    <tr>\n",
       "      <th>mean</th>\n",
       "      <td>9.500096e+06</td>\n",
       "      <td>4476.808081</td>\n",
       "      <td>2.194999e+03</td>\n",
       "    </tr>\n",
       "    <tr>\n",
       "      <th>std</th>\n",
       "      <td>1.716716e+07</td>\n",
       "      <td>4084.832450</td>\n",
       "      <td>1.903803e+04</td>\n",
       "    </tr>\n",
       "    <tr>\n",
       "      <th>min</th>\n",
       "      <td>1.000000e+05</td>\n",
       "      <td>101.000000</td>\n",
       "      <td>8.000000e+01</td>\n",
       "    </tr>\n",
       "    <tr>\n",
       "      <th>25%</th>\n",
       "      <td>2.700000e+06</td>\n",
       "      <td>1555.000000</td>\n",
       "      <td>1.276000e+03</td>\n",
       "    </tr>\n",
       "    <tr>\n",
       "      <th>50%</th>\n",
       "      <td>5.762500e+06</td>\n",
       "      <td>4285.000000</td>\n",
       "      <td>1.635000e+03</td>\n",
       "    </tr>\n",
       "    <tr>\n",
       "      <th>75%</th>\n",
       "      <td>9.922250e+06</td>\n",
       "      <td>6000.000000</td>\n",
       "      <td>2.137750e+03</td>\n",
       "    </tr>\n",
       "    <tr>\n",
       "      <th>max</th>\n",
       "      <td>6.100000e+08</td>\n",
       "      <td>128000.000000</td>\n",
       "      <td>2.352240e+06</td>\n",
       "    </tr>\n",
       "  </tbody>\n",
       "</table>\n",
       "</div>"
      ],
      "text/plain": [
       "              price       per_sqft          area\n",
       "count  2.492200e+04   24922.000000  2.492200e+04\n",
       "mean   9.500096e+06    4476.808081  2.194999e+03\n",
       "std    1.716716e+07    4084.832450  1.903803e+04\n",
       "min    1.000000e+05     101.000000  8.000000e+01\n",
       "25%    2.700000e+06    1555.000000  1.276000e+03\n",
       "50%    5.762500e+06    4285.000000  1.635000e+03\n",
       "75%    9.922250e+06    6000.000000  2.137750e+03\n",
       "max    6.100000e+08  128000.000000  2.352240e+06"
      ]
     },
     "execution_count": 24,
     "metadata": {},
     "output_type": "execute_result"
    }
   ],
   "source": [
    "d1.describe()"
   ]
  },
  {
   "cell_type": "code",
   "execution_count": 25,
   "id": "9a0abb20",
   "metadata": {},
   "outputs": [],
   "source": [
    "writer = pd.ExcelWriter('current.xlsx',engine ='xlsxwriter')\n",
    "d1.to_excel(writer, 'Sheet1')\n",
    "writer.save()"
   ]
  },
  {
   "cell_type": "code",
   "execution_count": 26,
   "id": "1e7d86fd",
   "metadata": {},
   "outputs": [],
   "source": [
    "df=pd.read_excel('current.xlsx',index_col=0)"
   ]
  },
  {
   "cell_type": "code",
   "execution_count": 27,
   "id": "d02768b7",
   "metadata": {},
   "outputs": [
    {
     "data": {
      "text/plain": [
       "(24922, 8)"
      ]
     },
     "execution_count": 27,
     "metadata": {},
     "output_type": "execute_result"
    }
   ],
   "source": [
    "df.shape"
   ]
  },
  {
   "cell_type": "code",
   "execution_count": 28,
   "id": "55a67f2c",
   "metadata": {},
   "outputs": [
    {
     "data": {
      "text/plain": [
       "Residential Plot              10564\n",
       "2  BHK  Apartment              5050\n",
       "3  BHK  Apartment              4946\n",
       "4  BHK  Villa                   848\n",
       "3  BHK  Villa                   740\n",
       "2  BHK  Independent House       629\n",
       "4  BHK  Apartment               517\n",
       "4  BHK  Independent House       279\n",
       "3  BHK  Independent House       255\n",
       "2  BHK  Independent Floor       211\n",
       "1  BHK  Apartment               162\n",
       "5  BHK  Villa                   135\n",
       "5  BHK  Independent House       124\n",
       "5  BHK  Apartment                86\n",
       "2  BHK  Villa                    78\n",
       "6  BHK  Independent House        65\n",
       "1  BHK  Independent House        39\n",
       "10  BHK  Independent House       30\n",
       "3  BHK  Independent Floor        28\n",
       "8  BHK  Independent House        25\n",
       "7  BHK  Independent House        24\n",
       "6  BHK  Villa                    24\n",
       "1  RK  Studio Apartment          21\n",
       "9  BHK  Independent House         9\n",
       "4  BHK  Independent Floor         6\n",
       "1  BHK  Independent Floor         4\n",
       "6  BHK  Apartment                 3\n",
       "1  BHK  Villa                     3\n",
       "7  BHK  Apartment                 3\n",
       "10  BHK  Apartment                2\n",
       "6  BHK  Independent Floor         2\n",
       "10  BHK  Independent Floor        2\n",
       "7  BHK  Villa                     2\n",
       "5  BHK  Independent Floor         1\n",
       "8  BHK  Independent Floor         1\n",
       "8  BHK  Apartment                 1\n",
       "15  BHK  Independent Floor        1\n",
       "3  BHK  Penthouse                 1\n",
       "11  BHK  Independent House        1\n",
       "Name: title, dtype: int64"
      ]
     },
     "execution_count": 28,
     "metadata": {},
     "output_type": "execute_result"
    }
   ],
   "source": [
    "df['title'].value_counts()"
   ]
  },
  {
   "cell_type": "code",
   "execution_count": 29,
   "id": "39b2f1c6",
   "metadata": {},
   "outputs": [],
   "source": [
    "df.set_index(keys='title',inplace=True)"
   ]
  },
  {
   "cell_type": "code",
   "execution_count": 30,
   "id": "50bbabb2",
   "metadata": {},
   "outputs": [
    {
     "data": {
      "text/plain": [
       "(24922, 7)"
      ]
     },
     "execution_count": 30,
     "metadata": {},
     "output_type": "execute_result"
    }
   ],
   "source": [
    "df.shape"
   ]
  },
  {
   "cell_type": "markdown",
   "id": "765f8b4c",
   "metadata": {},
   "source": [
    "Residential Plot's"
   ]
  },
  {
   "cell_type": "code",
   "execution_count": 31,
   "id": "1755b1ec",
   "metadata": {},
   "outputs": [
    {
     "data": {
      "text/plain": [
       "(10564, 8)"
      ]
     },
     "execution_count": 31,
     "metadata": {},
     "output_type": "execute_result"
    }
   ],
   "source": [
    "d1=df.filter(like='Residential Plot',axis=0)\n",
    "d1.reset_index(inplace=True)\n",
    "d1.shape"
   ]
  },
  {
   "cell_type": "code",
   "execution_count": 32,
   "id": "240600f2",
   "metadata": {},
   "outputs": [],
   "source": [
    "import pandas as pd\n",
    "import matplotlib.pyplot as plt\n",
    "%matplotlib inline\n",
    "import seaborn as sns"
   ]
  },
  {
   "cell_type": "code",
   "execution_count": 33,
   "id": "6c1bdddf",
   "metadata": {},
   "outputs": [
    {
     "data": {
      "image/png": "[encoded data removed]",
      "text/plain": [
       "<Figure size 432x288 with 1 Axes>"
      ]
     },
     "metadata": {
      "needs_background": "light"
     },
     "output_type": "display_data"
    }
   ],
   "source": [
    "d_1=d1['title'].value_counts().plot.bar()\n",
    "plt.yscale('log')"
   ]
  },
  {
   "cell_type": "code",
   "execution_count": 34,
   "id": "d00fdc1a",
   "metadata": {},
   "outputs": [],
   "source": [
    "# Observation\n",
    "# There are almost 10k Residential plots in hyderabad."
   ]
  },
  {
   "cell_type": "code",
   "execution_count": 35,
   "id": "8dcca26a",
   "metadata": {},
   "outputs": [],
   "source": [
    "#Apartment's"
   ]
  },
  {
   "cell_type": "code",
   "execution_count": 36,
   "id": "15faa32e",
   "metadata": {},
   "outputs": [
    {
     "data": {
      "text/plain": [
       "(10791, 8)"
      ]
     },
     "execution_count": 36,
     "metadata": {},
     "output_type": "execute_result"
    }
   ],
   "source": [
    "d2=df.filter(like='Apartment',axis=0)\n",
    "d2.reset_index(inplace=True)\n",
    "d2.shape"
   ]
  },
  {
   "cell_type": "code",
   "execution_count": 37,
   "id": "89aa3141",
   "metadata": {},
   "outputs": [
    {
     "data": {
      "text/plain": [
       "2  BHK  Apartment          5050\n",
       "3  BHK  Apartment          4946\n",
       "4  BHK  Apartment           517\n",
       "1  BHK  Apartment           162\n",
       "5  BHK  Apartment            86\n",
       "1  RK  Studio Apartment      21\n",
       "6  BHK  Apartment             3\n",
       "7  BHK  Apartment             3\n",
       "10  BHK  Apartment            2\n",
       "8  BHK  Apartment             1\n",
       "Name: title, dtype: int64"
      ]
     },
     "execution_count": 37,
     "metadata": {},
     "output_type": "execute_result"
    }
   ],
   "source": [
    "d4=d2['title'].value_counts()\n",
    "d4"
   ]
  },
  {
   "cell_type": "code",
   "execution_count": 38,
   "id": "f766898c",
   "metadata": {},
   "outputs": [
    {
     "data": {
      "image/png": "[encoded data removed]",
      "text/plain": [
       "<Figure size 432x288 with 1 Axes>"
      ]
     },
     "metadata": {
      "needs_background": "light"
     },
     "output_type": "display_data"
    }
   ],
   "source": [
    "d4.plot.bar()\n",
    "plt.yscale('log')"
   ]
  },
  {
   "cell_type": "code",
   "execution_count": 39,
   "id": "69c33450",
   "metadata": {},
   "outputs": [],
   "source": [
    "# Observations\n",
    "# There are almost 4k 3 BHK's, 3k 2 BHK's, 300 4 BHK's, 300 1 BHK's etc."
   ]
  },
  {
   "cell_type": "code",
   "execution_count": 40,
   "id": "7623ae8a",
   "metadata": {},
   "outputs": [],
   "source": [
    "#Villa's"
   ]
  },
  {
   "cell_type": "code",
   "execution_count": 41,
   "id": "e08b3bad",
   "metadata": {},
   "outputs": [
    {
     "data": {
      "text/plain": [
       "(1830, 8)"
      ]
     },
     "execution_count": 41,
     "metadata": {},
     "output_type": "execute_result"
    }
   ],
   "source": [
    "d3=df.filter(like='Villa',axis=0)\n",
    "d3.reset_index(inplace=True)\n",
    "d3.shape "
   ]
  },
  {
   "cell_type": "code",
   "execution_count": 42,
   "id": "8830d309",
   "metadata": {},
   "outputs": [
    {
     "data": {
      "text/plain": [
       "4  BHK  Villa    848\n",
       "3  BHK  Villa    740\n",
       "5  BHK  Villa    135\n",
       "2  BHK  Villa     78\n",
       "6  BHK  Villa     24\n",
       "1  BHK  Villa      3\n",
       "7  BHK  Villa      2\n",
       "Name: title, dtype: int64"
      ]
     },
     "execution_count": 42,
     "metadata": {},
     "output_type": "execute_result"
    }
   ],
   "source": [
    "d3_1=d3['title'].value_counts()\n",
    "d3_1"
   ]
  },
  {
   "cell_type": "code",
   "execution_count": 43,
   "id": "84f6c02b",
   "metadata": {},
   "outputs": [
    {
     "data": {
      "text/plain": [
       "<AxesSubplot:>"
      ]
     },
     "execution_count": 43,
     "metadata": {},
     "output_type": "execute_result"
    },
    {
     "data": {
      "image/png": "[encoded data removed]",
      "text/plain": [
       "<Figure size 432x288 with 1 Axes>"
      ]
     },
     "metadata": {
      "needs_background": "light"
     },
     "output_type": "display_data"
    }
   ],
   "source": [
    "d3_1.plot.bar()"
   ]
  },
  {
   "cell_type": "code",
   "execution_count": 44,
   "id": "ff73fdbf",
   "metadata": {},
   "outputs": [],
   "source": [
    "# #Observations\n",
    "# There are almost 440 3 BHK Villa's, 400 4 BHK Villa's, 50 5 BHK Villa's, 50 2 BHK Villa's etc"
   ]
  },
  {
   "cell_type": "code",
   "execution_count": 45,
   "id": "25524a0e",
   "metadata": {},
   "outputs": [],
   "source": [
    "#Independent House"
   ]
  },
  {
   "cell_type": "code",
   "execution_count": 46,
   "id": "304d4ace",
   "metadata": {},
   "outputs": [
    {
     "data": {
      "text/plain": [
       "(1480, 8)"
      ]
     },
     "execution_count": 46,
     "metadata": {},
     "output_type": "execute_result"
    }
   ],
   "source": [
    "d4_=df.filter(like='Independent House',axis=0)\n",
    "d4_.reset_index(inplace=True)\n",
    "d4_.shape \n"
   ]
  },
  {
   "cell_type": "code",
   "execution_count": 47,
   "id": "fe163e79",
   "metadata": {},
   "outputs": [
    {
     "data": {
      "text/plain": [
       "2  BHK  Independent House     629\n",
       "4  BHK  Independent House     279\n",
       "3  BHK  Independent House     255\n",
       "5  BHK  Independent House     124\n",
       "6  BHK  Independent House      65\n",
       "1  BHK  Independent House      39\n",
       "10  BHK  Independent House     30\n",
       "8  BHK  Independent House      25\n",
       "7  BHK  Independent House      24\n",
       "9  BHK  Independent House       9\n",
       "11  BHK  Independent House      1\n",
       "Name: title, dtype: int64"
      ]
     },
     "execution_count": 47,
     "metadata": {},
     "output_type": "execute_result"
    }
   ],
   "source": [
    "d4__1=d4_['title'].value_counts()\n",
    "d4__1"
   ]
  },
  {
   "cell_type": "code",
   "execution_count": 48,
   "id": "f012ead7",
   "metadata": {},
   "outputs": [
    {
     "data": {
      "image/png": "[encoded data removed]",
      "text/plain": [
       "<Figure size 432x288 with 1 Axes>"
      ]
     },
     "metadata": {
      "needs_background": "light"
     },
     "output_type": "display_data"
    }
   ],
   "source": [
    "d4__1.plot.bar()\n",
    "plt.yscale('log')\n"
   ]
  },
  {
   "cell_type": "code",
   "execution_count": 49,
   "id": "66584a9f",
   "metadata": {},
   "outputs": [],
   "source": [
    "# Observations\n",
    "# There are almost 800 2 BHK, 200 3 BHK, 150 1 BHK, 150 4 BHK, 40 5 BHk independent houses..."
   ]
  },
  {
   "cell_type": "code",
   "execution_count": 50,
   "id": "d9b2ce9c",
   "metadata": {},
   "outputs": [],
   "source": [
    "# Independent Floor"
   ]
  },
  {
   "cell_type": "code",
   "execution_count": 51,
   "id": "20b79be9",
   "metadata": {},
   "outputs": [
    {
     "data": {
      "text/plain": [
       "(256, 8)"
      ]
     },
     "execution_count": 51,
     "metadata": {},
     "output_type": "execute_result"
    }
   ],
   "source": [
    "d5=df.filter(like='Independent Floor',axis=0)\n",
    "d5.reset_index(inplace=True)\n",
    "d5.shape "
   ]
  },
  {
   "cell_type": "code",
   "execution_count": 52,
   "id": "453f930d",
   "metadata": {},
   "outputs": [
    {
     "data": {
      "text/plain": [
       "2  BHK  Independent Floor     211\n",
       "3  BHK  Independent Floor      28\n",
       "4  BHK  Independent Floor       6\n",
       "1  BHK  Independent Floor       4\n",
       "6  BHK  Independent Floor       2\n",
       "10  BHK  Independent Floor      2\n",
       "5  BHK  Independent Floor       1\n",
       "8  BHK  Independent Floor       1\n",
       "15  BHK  Independent Floor      1\n",
       "Name: title, dtype: int64"
      ]
     },
     "execution_count": 52,
     "metadata": {},
     "output_type": "execute_result"
    }
   ],
   "source": [
    "d5_1=d5['title'].value_counts()\n",
    "d5_1\n"
   ]
  },
  {
   "cell_type": "code",
   "execution_count": 53,
   "id": "8008ec8a",
   "metadata": {},
   "outputs": [
    {
     "data": {
      "text/plain": [
       "<AxesSubplot:>"
      ]
     },
     "execution_count": 53,
     "metadata": {},
     "output_type": "execute_result"
    },
    {
     "data": {
      "image/png": "[encoded data removed]",
      "text/plain": [
       "<Figure size 432x288 with 1 Axes>"
      ]
     },
     "metadata": {
      "needs_background": "light"
     },
     "output_type": "display_data"
    }
   ],
   "source": [
    "d5_1.plot.bar()\n"
   ]
  },
  {
   "cell_type": "code",
   "execution_count": 54,
   "id": "c79ee09f",
   "metadata": {},
   "outputs": [],
   "source": [
    "# Observations\n",
    "# There are 68 2 BHK, 39 3 BHK, 16 4 BHK, 16 1 BHK, 5 6 BHk independent Floors.."
   ]
  },
  {
   "cell_type": "code",
   "execution_count": 55,
   "id": "7d78b711",
   "metadata": {},
   "outputs": [],
   "source": [
    "# Penthouse\n"
   ]
  },
  {
   "cell_type": "code",
   "execution_count": 56,
   "id": "249a8278",
   "metadata": {},
   "outputs": [
    {
     "data": {
      "text/plain": [
       "(1, 8)"
      ]
     },
     "execution_count": 56,
     "metadata": {},
     "output_type": "execute_result"
    }
   ],
   "source": [
    "d6=df.filter(like='Penthouse',axis=0)\n",
    "d6.reset_index(inplace=True)\n",
    "d6.shape"
   ]
  },
  {
   "cell_type": "code",
   "execution_count": 57,
   "id": "b4b073d2",
   "metadata": {},
   "outputs": [
    {
     "data": {
      "text/plain": [
       "3  BHK  Penthouse    1\n",
       "Name: title, dtype: int64"
      ]
     },
     "execution_count": 57,
     "metadata": {},
     "output_type": "execute_result"
    }
   ],
   "source": [
    "d6_1=d6['title'].value_counts()\n",
    "d6_1\n"
   ]
  },
  {
   "cell_type": "code",
   "execution_count": 58,
   "id": "0c5e0c79",
   "metadata": {},
   "outputs": [
    {
     "data": {
      "text/plain": [
       "3  BHK  Penthouse    1\n",
       "Name: title, dtype: int64"
      ]
     },
     "execution_count": 58,
     "metadata": {},
     "output_type": "execute_result"
    }
   ],
   "source": [
    "d6_1=d6['title'].value_counts()\n",
    "d6_1\n"
   ]
  },
  {
   "cell_type": "code",
   "execution_count": 59,
   "id": "6c376482",
   "metadata": {},
   "outputs": [
    {
     "data": {
      "text/plain": [
       "<AxesSubplot:>"
      ]
     },
     "execution_count": 59,
     "metadata": {},
     "output_type": "execute_result"
    },
    {
     "data": {
      "image/png": "[encoded data removed]",
      "text/plain": [
       "<Figure size 432x288 with 1 Axes>"
      ]
     },
     "metadata": {
      "needs_background": "light"
     },
     "output_type": "display_data"
    }
   ],
   "source": [
    "d6_1.plot.bar()\n"
   ]
  },
  {
   "cell_type": "code",
   "execution_count": 60,
   "id": "05d7d729",
   "metadata": {},
   "outputs": [],
   "source": [
    "# Observations\n",
    "# There are almost 2 5 BHK, 1 2 BHK, 1 4 BHK, 150 4 BHK Penthouses."
   ]
  },
  {
   "cell_type": "code",
   "execution_count": 61,
   "id": "3fb36d06",
   "metadata": {},
   "outputs": [],
   "source": [
    "# Building Status"
   ]
  },
  {
   "cell_type": "code",
   "execution_count": 63,
   "id": "31dff0ea",
   "metadata": {},
   "outputs": [
    {
     "data": {
      "text/plain": [
       "New                   8058\n",
       "Under Construction    7978\n",
       "Ready to move         6363\n",
       "Resale                2506\n",
       "Name: status, dtype: int64"
      ]
     },
     "execution_count": 63,
     "metadata": {},
     "output_type": "execute_result"
    }
   ],
   "source": [
    "df1=df['status'].value_counts()\n",
    "df1"
   ]
  },
  {
   "cell_type": "code",
   "execution_count": 64,
   "id": "337e81d6",
   "metadata": {},
   "outputs": [
    {
     "data": {
      "image/png": "[encoded data removed]",
      "text/plain": [
       "<Figure size 432x288 with 1 Axes>"
      ]
     },
     "metadata": {
      "needs_background": "light"
     },
     "output_type": "display_data"
    }
   ],
   "source": [
    "df1.plot.bar()\n",
    "plt.yscale('log')"
   ]
  },
  {
   "cell_type": "code",
   "execution_count": 65,
   "id": "ba11a34c",
   "metadata": {},
   "outputs": [],
   "source": [
    "# Observations\n",
    "# There are almost 10k New, 5800 Ready to move, 5k Under construction and 1k Resale Properties."
   ]
  },
  {
   "cell_type": "code",
   "execution_count": 66,
   "id": "67561246",
   "metadata": {},
   "outputs": [],
   "source": [
    "# Price "
   ]
  },
  {
   "cell_type": "code",
   "execution_count": 67,
   "id": "6ef1151a",
   "metadata": {},
   "outputs": [
    {
     "data": {
      "text/plain": [
       "<AxesSubplot:xlabel='title'>"
      ]
     },
     "execution_count": 67,
     "metadata": {},
     "output_type": "execute_result"
    },
    {
     "data": {
      "image/png": "[encoded data removed]",
      "text/plain": [
       "<Figure size 432x288 with 1 Axes>"
      ]
     },
     "metadata": {
      "needs_background": "light"
     },
     "output_type": "display_data"
    }
   ],
   "source": [
    "df['price'].plot.bar()"
   ]
  },
  {
   "cell_type": "code",
   "execution_count": null,
   "id": "ad13c63a",
   "metadata": {},
   "outputs": [],
   "source": []
  }
 ],
 "metadata": {
  "kernelspec": {
   "display_name": "Python 3 (ipykernel)",
   "language": "python",
   "name": "python3"
  },
  "language_info": {
   "codemirror_mode": {
    "name": "ipython",
    "version": 3
   },
   "file_extension": ".py",
   "mimetype": "text/x-python",
   "name": "python",
   "nbconvert_exporter": "python",
   "pygments_lexer": "ipython3",
   "version": "3.9.7"
  }
 },
 "nbformat": 4,
 "nbformat_minor": 5
}
